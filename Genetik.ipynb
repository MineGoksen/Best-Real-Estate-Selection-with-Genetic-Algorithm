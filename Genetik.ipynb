{
 "cells": [
  {
   "cell_type": "code",
   "execution_count": 1,
   "metadata": {
    "id": "PSAyt-joc5GD"
   },
   "outputs": [],
   "source": [
    "import random\n",
    "import numpy as np\n",
    "import pandas as pd\n",
    "import matplotlib.pyplot as plt\n",
    "from copy import *"
   ]
  },
  {
   "cell_type": "code",
   "execution_count": 38,
   "metadata": {},
   "outputs": [
    {
     "data": {
      "text/html": [
       "<div>\n",
       "<style scoped>\n",
       "    .dataframe tbody tr th:only-of-type {\n",
       "        vertical-align: middle;\n",
       "    }\n",
       "\n",
       "    .dataframe tbody tr th {\n",
       "        vertical-align: top;\n",
       "    }\n",
       "\n",
       "    .dataframe thead th {\n",
       "        text-align: right;\n",
       "    }\n",
       "</style>\n",
       "<table border=\"1\" class=\"dataframe\">\n",
       "  <thead>\n",
       "    <tr style=\"text-align: right;\">\n",
       "      <th></th>\n",
       "      <th>Ücret (TL)</th>\n",
       "      <th>Oda Sayısı</th>\n",
       "      <th>Semtin Demografik Yapısı</th>\n",
       "      <th>Suç Oranı</th>\n",
       "      <th>Bina Dayanıklılık Puanı</th>\n",
       "      <th>Kat Sayısı</th>\n",
       "      <th>Manzara</th>\n",
       "      <th>Okul Kalitesi</th>\n",
       "      <th>Alışveriş Merkezine Uzaklık (km)</th>\n",
       "      <th>Metroya Uzaklık (km)</th>\n",
       "    </tr>\n",
       "  </thead>\n",
       "  <tbody>\n",
       "    <tr>\n",
       "      <th>0</th>\n",
       "      <td>1748548</td>\n",
       "      <td>5</td>\n",
       "      <td>2</td>\n",
       "      <td>0.726099</td>\n",
       "      <td>89</td>\n",
       "      <td>8</td>\n",
       "      <td>1</td>\n",
       "      <td>5</td>\n",
       "      <td>2.228636</td>\n",
       "      <td>6.499367</td>\n",
       "    </tr>\n",
       "    <tr>\n",
       "      <th>1</th>\n",
       "      <td>1317841</td>\n",
       "      <td>1</td>\n",
       "      <td>1</td>\n",
       "      <td>0.268116</td>\n",
       "      <td>9</td>\n",
       "      <td>9</td>\n",
       "      <td>1</td>\n",
       "      <td>5</td>\n",
       "      <td>2.127267</td>\n",
       "      <td>7.554071</td>\n",
       "    </tr>\n",
       "    <tr>\n",
       "      <th>2</th>\n",
       "      <td>1854171</td>\n",
       "      <td>3</td>\n",
       "      <td>4</td>\n",
       "      <td>0.345196</td>\n",
       "      <td>87</td>\n",
       "      <td>3</td>\n",
       "      <td>1</td>\n",
       "      <td>2</td>\n",
       "      <td>6.279880</td>\n",
       "      <td>8.853143</td>\n",
       "    </tr>\n",
       "    <tr>\n",
       "      <th>3</th>\n",
       "      <td>1504336</td>\n",
       "      <td>4</td>\n",
       "      <td>4</td>\n",
       "      <td>0.353722</td>\n",
       "      <td>76</td>\n",
       "      <td>1</td>\n",
       "      <td>3</td>\n",
       "      <td>1</td>\n",
       "      <td>6.332761</td>\n",
       "      <td>2.530527</td>\n",
       "    </tr>\n",
       "    <tr>\n",
       "      <th>4</th>\n",
       "      <td>1857021</td>\n",
       "      <td>4</td>\n",
       "      <td>1</td>\n",
       "      <td>0.263114</td>\n",
       "      <td>73</td>\n",
       "      <td>4</td>\n",
       "      <td>3</td>\n",
       "      <td>5</td>\n",
       "      <td>3.032790</td>\n",
       "      <td>2.279938</td>\n",
       "    </tr>\n",
       "    <tr>\n",
       "      <th>...</th>\n",
       "      <td>...</td>\n",
       "      <td>...</td>\n",
       "      <td>...</td>\n",
       "      <td>...</td>\n",
       "      <td>...</td>\n",
       "      <td>...</td>\n",
       "      <td>...</td>\n",
       "      <td>...</td>\n",
       "      <td>...</td>\n",
       "      <td>...</td>\n",
       "    </tr>\n",
       "    <tr>\n",
       "      <th>95</th>\n",
       "      <td>1926880</td>\n",
       "      <td>4</td>\n",
       "      <td>3</td>\n",
       "      <td>0.367716</td>\n",
       "      <td>20</td>\n",
       "      <td>9</td>\n",
       "      <td>2</td>\n",
       "      <td>5</td>\n",
       "      <td>4.369589</td>\n",
       "      <td>9.662300</td>\n",
       "    </tr>\n",
       "    <tr>\n",
       "      <th>96</th>\n",
       "      <td>1474815</td>\n",
       "      <td>3</td>\n",
       "      <td>3</td>\n",
       "      <td>0.669686</td>\n",
       "      <td>79</td>\n",
       "      <td>8</td>\n",
       "      <td>1</td>\n",
       "      <td>4</td>\n",
       "      <td>2.702327</td>\n",
       "      <td>9.426875</td>\n",
       "    </tr>\n",
       "    <tr>\n",
       "      <th>97</th>\n",
       "      <td>1704901</td>\n",
       "      <td>1</td>\n",
       "      <td>1</td>\n",
       "      <td>0.406751</td>\n",
       "      <td>100</td>\n",
       "      <td>3</td>\n",
       "      <td>3</td>\n",
       "      <td>2</td>\n",
       "      <td>9.689634</td>\n",
       "      <td>5.892653</td>\n",
       "    </tr>\n",
       "    <tr>\n",
       "      <th>98</th>\n",
       "      <td>737065</td>\n",
       "      <td>5</td>\n",
       "      <td>3</td>\n",
       "      <td>0.356950</td>\n",
       "      <td>33</td>\n",
       "      <td>8</td>\n",
       "      <td>3</td>\n",
       "      <td>2</td>\n",
       "      <td>5.898090</td>\n",
       "      <td>2.295584</td>\n",
       "    </tr>\n",
       "    <tr>\n",
       "      <th>99</th>\n",
       "      <td>1086804</td>\n",
       "      <td>3</td>\n",
       "      <td>4</td>\n",
       "      <td>0.709951</td>\n",
       "      <td>24</td>\n",
       "      <td>2</td>\n",
       "      <td>2</td>\n",
       "      <td>4</td>\n",
       "      <td>7.041864</td>\n",
       "      <td>4.953549</td>\n",
       "    </tr>\n",
       "  </tbody>\n",
       "</table>\n",
       "<p>100 rows × 10 columns</p>\n",
       "</div>"
      ],
      "text/plain": [
       "    Ücret (TL)  Oda Sayısı  Semtin Demografik Yapısı  Suç Oranı  \\\n",
       "0      1748548           5                         2   0.726099   \n",
       "1      1317841           1                         1   0.268116   \n",
       "2      1854171           3                         4   0.345196   \n",
       "3      1504336           4                         4   0.353722   \n",
       "4      1857021           4                         1   0.263114   \n",
       "..         ...         ...                       ...        ...   \n",
       "95     1926880           4                         3   0.367716   \n",
       "96     1474815           3                         3   0.669686   \n",
       "97     1704901           1                         1   0.406751   \n",
       "98      737065           5                         3   0.356950   \n",
       "99     1086804           3                         4   0.709951   \n",
       "\n",
       "    Bina Dayanıklılık Puanı  Kat Sayısı  Manzara  Okul Kalitesi  \\\n",
       "0                        89           8        1              5   \n",
       "1                         9           9        1              5   \n",
       "2                        87           3        1              2   \n",
       "3                        76           1        3              1   \n",
       "4                        73           4        3              5   \n",
       "..                      ...         ...      ...            ...   \n",
       "95                       20           9        2              5   \n",
       "96                       79           8        1              4   \n",
       "97                      100           3        3              2   \n",
       "98                       33           8        3              2   \n",
       "99                       24           2        2              4   \n",
       "\n",
       "    Alışveriş Merkezine Uzaklık (km)  Metroya Uzaklık (km)  \n",
       "0                           2.228636              6.499367  \n",
       "1                           2.127267              7.554071  \n",
       "2                           6.279880              8.853143  \n",
       "3                           6.332761              2.530527  \n",
       "4                           3.032790              2.279938  \n",
       "..                               ...                   ...  \n",
       "95                          4.369589              9.662300  \n",
       "96                          2.702327              9.426875  \n",
       "97                          9.689634              5.892653  \n",
       "98                          5.898090              2.295584  \n",
       "99                          7.041864              4.953549  \n",
       "\n",
       "[100 rows x 10 columns]"
      ]
     },
     "execution_count": 38,
     "metadata": {},
     "output_type": "execute_result"
    }
   ],
   "source": [
    "np.random.seed(10)\n",
    "\n",
    "data = {\n",
    "    \"Ücret (TL)\": np.random.randint(700000, 2000000, size=100),\n",
    "    \"Oda Sayısı\": np.random.randint(1, 6, size=100),\n",
    "    \"Semtin Demografik Yapısı\": np.random.randint(1, 5, size=100),\n",
    "    \"Suç Oranı\": np.random.uniform(0, 1, size=100),\n",
    "    \"Bina Dayanıklılık Puanı\": np.random.randint(1, 101, size=100),\n",
    "    \"Kat Sayısı\": np.random.randint(1, 11, size=100),\n",
    "    \"Manzara\": np.random.randint(1, 4, size=100),\n",
    "    \"Okul Kalitesi\": np.random.randint(1, 6, size=100),\n",
    "    \"Alışveriş Merkezine Uzaklık (km)\": np.random.uniform(0, 10, size=100),\n",
    "    \"Metroya Uzaklık (km)\": np.random.uniform(0, 10, size=100),\n",
    "}\n",
    "\n",
    "data = pd.DataFrame(data)\n",
    "data\n"
   ]
  },
  {
   "cell_type": "code",
   "execution_count": 39,
   "metadata": {
    "colab": {
     "base_uri": "https://localhost:8080/",
     "height": 1000
    },
    "id": "u41SkLcbdFN4",
    "outputId": "4763ec76-9afa-45b7-9dc5-275fc42e5662"
   },
   "outputs": [],
   "source": [
    "#data = pd.read_csv(\"ev_liste.csv\" , sep=\";\")\n",
    "data.insert(0, \"Ev ID\", range(1, len(data)+1))\n",
    "data.to_csv(\"evler.csv\", index=False)\n",
    "data = pd.read_csv(\"evler.csv\" , sep=\",\")\n",
    "df_normalized = data.apply(lambda x: (x - np.min(x)) / (np.max(x) - np.min(x)))\n",
    "populasyon = len(data)\n",
    "\n"
   ]
  },
  {
   "cell_type": "code",
   "execution_count": 40,
   "metadata": {},
   "outputs": [],
   "source": [
    "\n",
    "def generate_attr (size):\n",
    "    return list(np.random.uniform(low=0.0, high=1.0, size=size))\n",
    "def generate_population (size, attr_size):\n",
    "    return [generate_attr(attr_size) for i in range (size)]\n"
   ]
  },
  {
   "cell_type": "code",
   "execution_count": 41,
   "metadata": {
    "id": "VrSj5ZDjhgRW"
   },
   "outputs": [],
   "source": [
    "#Hedef fonksiyonu tanımlanması\n",
    "s_min = np.min(df_normalized, axis=0)\n",
    "s_max = np.max(df_normalized, axis=0)\n",
    "importance_weight = [1,4,9,3,2,8,5,6,10,7]\n",
    "weights = [-0.3, 0.15, 0.03, -0.3, 0.23, 0.05, - 0.13, 0.12, -0.02,  -0.08]\n",
    "def fitness(attr):\n",
    "    fitness = 0\n",
    "    for j, col in enumerate(df_normalized.values.tolist()[0][1:]):\n",
    "        fitness += weights[j] * ((col-s_min[j]) / (s_max[j] - s_min[j]) )\n",
    "    return fitness"
   ]
  },
  {
   "cell_type": "code",
   "execution_count": 42,
   "metadata": {
    "id": "IQFl1qa8nVpR"
   },
   "outputs": [],
   "source": [
    "def select_parent(population, scores):\n",
    "    return population[np.random.choice(range(len(population)), p=scores/np.sum(scores))]"
   ]
  },
  {
   "cell_type": "code",
   "execution_count": 43,
   "metadata": {
    "id": "E6eokQlCldLn"
   },
   "outputs": [],
   "source": [
    "def crossover(parent1, parent2):\n",
    "    crossover_point = np.random.randint(1, len(parent1))\n",
    "    child = parent1[:crossover_point] + parent2[crossover_point:]\n",
    "    return child\n"
   ]
  },
  {
   "cell_type": "code",
   "execution_count": 44,
   "metadata": {
    "id": "2HiiKoDom02-"
   },
   "outputs": [],
   "source": [
    "def mutation(attr, probability=0.5):\n",
    "    for i in range(len(attr)):\n",
    "        if np.random.uniform() < probability:\n",
    "            attr[i] = np.random.uniform()\n",
    "    return attr"
   ]
  },
  {
   "cell_type": "code",
   "execution_count": 45,
   "metadata": {
    "id": "TM0WD4clnZXp"
   },
   "outputs": [],
   "source": [
    "def genetic_algorithm(population_size, generations):\n",
    "    population = generate_population(population_size, 10)\n",
    "    for i in range(generations):\n",
    "        scores = [fitness(attr) for attr in population]\n",
    "        best_attr = population[scores.index(max(scores))]\n",
    "        parent1 = select_parent(population, scores)\n",
    "        parent2 = select_parent(population, scores)\n",
    "        child = crossover(parent1, parent2)\n",
    "        child = mutation(child)\n",
    "        new_population = []\n",
    "        for i in range(population_size):\n",
    "            new_population.append(select_parent(population, scores))\n",
    "        population = [child] + new_population[1:]\n",
    "    return best_attr"
   ]
  },
  {
   "cell_type": "code",
   "execution_count": 46,
   "metadata": {
    "colab": {
     "base_uri": "https://localhost:8080/"
    },
    "id": "tJKvQe3-n2IQ",
    "outputId": "c0d65e5a-b89f-40bc-f7a4-1a6ebc72cb7b"
   },
   "outputs": [
    {
     "name": "stdout",
     "output_type": "stream",
     "text": [
      "Best attribute: [0.3059537787037877, 0.3886563451073852, 0.2866595368721877, 0.9826545769798094, 0.23744431941102184, 0.8080341766151046, 0.8001813897634292, 0.3393778185254388, 0.9247766311923584, 0.18529634035453513]\n"
     ]
    }
   ],
   "source": [
    "# En iyi özellik vektörüne sahip olan evin indeksini bulma\n",
    "best_attr = genetic_algorithm(50, 100)\n",
    "print(\"Best attribute:\", best_attr)"
   ]
  },
  {
   "cell_type": "code",
   "execution_count": 47,
   "metadata": {},
   "outputs": [
    {
     "name": "stdout",
     "output_type": "stream",
     "text": [
      "Best match index: 56\n"
     ]
    }
   ],
   "source": [
    "df_normalized = np.array(df_normalized)\n",
    "\n",
    "best_distance = float('inf')\n",
    "best_match_index = -1\n",
    "for i, row in enumerate(df_normalized):\n",
    "    distance = np.linalg.norm(row[1:] - np.array(best_attr))\n",
    "    if distance < best_distance:\n",
    "        best_distance = distance\n",
    "        best_match_index = i\n",
    "\n",
    "print(\"Best match index:\", best_match_index)"
   ]
  },
  {
   "cell_type": "code",
   "execution_count": 48,
   "metadata": {},
   "outputs": [
    {
     "name": "stdout",
     "output_type": "stream",
     "text": [
      "Row 55: ['56.00', '1175496.00', '1.00', '1.00', '0.79', '87.00', '10.00', '2.00', '4.00', '9.67', '4.82']\n"
     ]
    }
   ],
   "source": [
    "for index, row in data.iterrows():\n",
    "    if (index == best_match_index-1):\n",
    "        formatted_row = [f'{value:.2f}' for value in row]\n",
    "        print(f\"Row {index}: {formatted_row}\")\n",
    "        "
   ]
  },
  {
   "cell_type": "markdown",
   "metadata": {},
   "source": [
    "HILL-CLIMB"
   ]
  },
  {
   "cell_type": "markdown",
   "metadata": {},
   "source": [
    "Hill-Climbing algoritması şu adımlarla çalışır:\n",
    "\n",
    "* Başlangıç noktasını belirle: Rastgele bir ev seçilir.\n",
    "* Komşu çözümleri hesapla: Mevcut evin özelliklerini biraz değiştirerek yeni bir ev oluştur.\n",
    "* Yeni evin kalitesini hesapla: Yeni evin kalitesi (hedef fonksiyonu) ölçülür.\n",
    "* Mevcut evle yeni evi karşılaştır: Yeni evin kalitesi mevcut evden daha yüksekse, yeni ev mevcut çözüm olarak seçilir ve adımlar tekrarlanır. Aksi takdirde, mevcut ev çözüm olarak kalır.\n",
    "* Belli bir sayıda adım veya belirli bir zaman içinde en iyi sonucu veren çözüm bulunana kadar 2-4. adımlar tekrarlanır."
   ]
  },
  {
   "cell_type": "code",
   "execution_count": 49,
   "metadata": {},
   "outputs": [],
   "source": [
    "#Hedef fonksiyonu tanımlanması\n",
    "s_min = np.min(df_normalized, axis=0)\n",
    "s_max = np.max(df_normalized, axis=0)\n",
    "def fitness_func(attr):\n",
    "    importance_weight = [1,4,9,3,2,8,5,6,10,7]\n",
    "    weights = [-0.3, 0.23, 0.19, 0.15, 0.13, 0.12, -0.08, 0.05, 0.03, 0.02]\n",
    "    fitness = 0\n",
    "    for j, col in enumerate(attr):\n",
    "        fitness += weights[j] * ((col-s_min[j]) / (s_max[j] - s_min[j]) )\n",
    "    return fitness"
   ]
  },
  {
   "cell_type": "code",
   "execution_count": 50,
   "metadata": {},
   "outputs": [],
   "source": [
    "\n",
    "current_solution = df_normalized[random.randint(0, len(df_normalized) - 1)][1:]\n",
    "best_score = fitness_func(current_solution)"
   ]
  },
  {
   "cell_type": "code",
   "execution_count": 51,
   "metadata": {},
   "outputs": [],
   "source": [
    "max_steps = 100\n",
    "step = 0\n",
    "# Hill-Climbing algoritması\n",
    "while step < max_steps:\n",
    "    new_solution = copy(current_solution)\n",
    "    # Bir rastgele özelliği değiştir\n",
    "    new_solution = mutation(new_solution)\n",
    "    # Yeni çözümü değerlendir\n",
    "    new_score = fitness_func(new_solution)\n",
    "    # Karşılaştır ve en iyi çözümü güncelle\n",
    "    if new_score > best_score:\n",
    "        best_solution = new_solution\n",
    "        best_score = new_score\n",
    "    if new_score > fitness_func(current_solution):\n",
    "        current_solution = new_solution\n",
    "    step += 1\n"
   ]
  },
  {
   "cell_type": "code",
   "execution_count": 52,
   "metadata": {},
   "outputs": [
    {
     "name": "stdout",
     "output_type": "stream",
     "text": [
      "Best match index: 86\n"
     ]
    }
   ],
   "source": [
    "df_normalized = np.array(df_normalized)\n",
    "\n",
    "best_distance = float('inf')\n",
    "best_match_index1 = -1\n",
    "for i, row in enumerate(df_normalized):\n",
    "    distance = np.linalg.norm(row[1:] - np.array(best_solution))\n",
    "    if distance < best_distance:\n",
    "        best_distance = distance\n",
    "        best_match_index1 = i\n",
    "\n",
    "print(\"Best match index:\", best_match_index1)"
   ]
  },
  {
   "cell_type": "code",
   "execution_count": 53,
   "metadata": {},
   "outputs": [
    {
     "name": "stdout",
     "output_type": "stream",
     "text": [
      "Row 85: ['86.00', '739697.00', '3.00', '1.00', '0.96', '66.00', '9.00', '1.00', '2.00', '0.16', '9.20']\n"
     ]
    }
   ],
   "source": [
    "for index, row in data.iterrows():\n",
    "    if (index == best_match_index1-1):\n",
    "        formatted_row = [f'{value:.2f}' for value in row]\n",
    "        print(f\"Row {index}: {formatted_row}\")"
   ]
  },
  {
   "cell_type": "code",
   "execution_count": 54,
   "metadata": {},
   "outputs": [
    {
     "name": "stdout",
     "output_type": "stream",
     "text": [
      "0.28360632623720294\n"
     ]
    }
   ],
   "source": [
    "print(fitness_func(df_normalized[best_match_index-1][1:]))"
   ]
  },
  {
   "cell_type": "code",
   "execution_count": 55,
   "metadata": {},
   "outputs": [
    {
     "name": "stdout",
     "output_type": "stream",
     "text": [
      "0.4816426920842535\n"
     ]
    }
   ],
   "source": [
    "print(fitness_func(df_normalized[best_match_index1-1][1:]))"
   ]
  },
  {
   "cell_type": "code",
   "execution_count": null,
   "metadata": {},
   "outputs": [],
   "source": []
  },
  {
   "cell_type": "code",
   "execution_count": null,
   "metadata": {},
   "outputs": [],
   "source": []
  },
  {
   "cell_type": "code",
   "execution_count": null,
   "metadata": {},
   "outputs": [],
   "source": []
  }
 ],
 "metadata": {
  "colab": {
   "provenance": []
  },
  "kernelspec": {
   "display_name": "Python 3 (ipykernel)",
   "language": "python",
   "name": "python3"
  },
  "language_info": {
   "codemirror_mode": {
    "name": "ipython",
    "version": 3
   },
   "file_extension": ".py",
   "mimetype": "text/x-python",
   "name": "python",
   "nbconvert_exporter": "python",
   "pygments_lexer": "ipython3",
   "version": "3.9.12"
  }
 },
 "nbformat": 4,
 "nbformat_minor": 1
}
